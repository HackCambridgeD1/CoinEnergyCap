{
 "cells": [
  {
   "cell_type": "code",
   "execution_count": 1,
   "metadata": {
    "pycharm": {
     "name": "#%%\n"
    }
   },
   "outputs": [],
   "source": [
    "import requests\n",
    "\n",
    "from app.sources.cryptocurrency_api_connections.market_cap_api import get_symbol_market_cap_map\n",
    "from app.sources.cryptocurrency_api_connections.minerstat_api_endpoint import MinerstatApiEndpoint\n",
    "from app.sources.cryptocurrency_data_analysis.default_analysis_set import get_default_analysis_set, get_annual_energy_consumption_in_j_from_timestamp\n",
    "from app.sources.cryptocurrency_data_analysis.energy_consumption_calculations import to_scientific_notation, \\\n",
    "    to_twh_from_j, j_to_co2_kg_AVG\n",
    "from app.sources.cryptocurrency_data_schema.demo_cryptocurrency_metadata import demo_metadata\n",
    "\n",
    "default_analysis_set = get_default_analysis_set()"
   ]
  },
  {
   "cell_type": "code",
   "execution_count": 2,
   "outputs": [
    {
     "data": {
      "text/plain": "[CryptocurrencyTimestamp(timestamp=datetime.datetime(2022, 1, 23, 0, 36, 28), metadata=CryptocurrencyMetadata(symbol='BTC', name='Bitcoin', efficiency=25300000000.0, type=<CryptocurrencyType.PROOF_OF_WORK: 'proof_of_work'>), hashes_per_second=1.759400846770547e+20, volume=43936161095.386, price=35424.619449325),\n CryptocurrencyTimestamp(timestamp=datetime.datetime(2022, 1, 23, 0, 36, 43), metadata=CryptocurrencyMetadata(symbol='ETH', name='Ethereum', efficiency=228000.0, type=<CryptocurrencyType.PROOF_OF_WORK: 'proof_of_work'>), hashes_per_second=937256176899067, volume=32401051312.5, price=2441.7304799452),\n CryptocurrencyTimestamp(timestamp=datetime.datetime(2022, 1, 23, 0, 36, 21), metadata=CryptocurrencyMetadata(symbol='BSV', name='Bitcoin SV', efficiency=25300000000.0, type=<CryptocurrencyType.PROOF_OF_WORK: 'proof_of_work'>), hashes_per_second=4.87743e+17, volume=184112935.75897, price=90.72487493399),\n CryptocurrencyTimestamp(timestamp=datetime.datetime(2022, 1, 22, 23, 54, 28), metadata=CryptocurrencyMetadata(symbol='BCH', name='Bitcoin Cash', efficiency=25300000000.0, type=<CryptocurrencyType.PROOF_OF_WORK: 'proof_of_work'>), hashes_per_second=1427388347647288000, volume=906238329.09894, price=291.19738962872),\n CryptocurrencyTimestamp(timestamp=datetime.datetime(2022, 1, 23, 0, 36, 34), metadata=CryptocurrencyMetadata(symbol='LTC', name='Litecoin', efficiency=827000.0, type=<CryptocurrencyType.PROOF_OF_WORK: 'proof_of_work'>), hashes_per_second=357800000000000, volume=2530303530.5389, price=110.00910403116),\n CryptocurrencyTimestamp(timestamp=datetime.datetime(2022, 1, 23, 0, 36, 46), metadata=CryptocurrencyMetadata(symbol='XMR', name='Monero', efficiency=6.0, type=<CryptocurrencyType.PROOF_OF_WORK: 'proof_of_work'>), hashes_per_second=3290000000, volume=223145786.67955, price=154.29685384946),\n CryptocurrencyTimestamp(timestamp=datetime.datetime(2022, 1, 23, 0, 36, 28), metadata=CryptocurrencyMetadata(symbol='DASH', name='Dash', efficiency=123000000.0, type=<CryptocurrencyType.PROOF_OF_WORK: 'proof_of_work'>), hashes_per_second=3174082267608300, volume=473058446.83983, price=98.823231622491),\n CryptocurrencyTimestamp(timestamp=datetime.datetime(2022, 1, 23, 0, 36, 22), metadata=CryptocurrencyMetadata(symbol='ETC', name='Ethereum C', efficiency=228000.0, type=<CryptocurrencyType.PROOF_OF_WORK: 'proof_of_work'>), hashes_per_second=24354217734574, volume=665376704.45894, price=24.566294215953),\n CryptocurrencyTimestamp(timestamp=datetime.datetime(2022, 1, 23, 0, 36, 46), metadata=CryptocurrencyMetadata(symbol='ZEC', name='Zcash', efficiency=90.0, type=<CryptocurrencyType.PROOF_OF_WORK: 'proof_of_work'>), hashes_per_second=11594921045.628, volume=411958081.53507, price=96.287503045809),\n CryptocurrencyTimestamp(timestamp=datetime.datetime(2022, 1, 23, 0, 36, 33), metadata=CryptocurrencyMetadata(symbol='DOGE', name='DogeCoin', efficiency=827000.0, type=<CryptocurrencyType.PROOF_OF_WORK: 'proof_of_work'>), hashes_per_second=314144679503080, volume=1992802674.9219, price=0.13571149453867),\n CryptocurrencyTimestamp(timestamp=datetime.datetime(2022, 1, 23, 0, 36, 27), metadata=CryptocurrencyMetadata(symbol='DCR', name='Decred', efficiency=18900000000.0, type=<CryptocurrencyType.PROOF_OF_WORK: 'proof_of_work'>), hashes_per_second=3.9233148731359e+17, volume=9147066.1631377, price=57.015323487271),\n CryptocurrencyTimestamp(timestamp=datetime.datetime(2022, 1, 23, 0, 36, 30), metadata=CryptocurrencyMetadata(symbol='RVN', name='RavenCoin', efficiency=116000.0, type=<CryptocurrencyType.PROOF_OF_WORK: 'proof_of_work'>), hashes_per_second=4990034738414, volume=53859205.34098, price=0.062663901869477),\n CryptocurrencyTimestamp(timestamp=datetime.datetime(2022, 1, 23, 0, 36, 16), metadata=CryptocurrencyMetadata(symbol='DGB', name='DigiByte', efficiency=25300000000.0, type=<CryptocurrencyType.PROOF_OF_WORK: 'proof_of_work'>), hashes_per_second=1205962071801300, volume=27773599.249126, price=0.020695732481736),\n CryptocurrencyTimestamp(timestamp=datetime.datetime(2022, 1, 23, 0, 36, 46), metadata=CryptocurrencyMetadata(symbol='ZEN', name='Horizen', efficiency=90.0, type=<CryptocurrencyType.PROOF_OF_WORK: 'proof_of_work'>), hashes_per_second=1742716998.0216, volume=31666323.80388, price=36.046343316304),\n CryptocurrencyTimestamp(timestamp=datetime.datetime(2022, 1, 23, 0, 36, 34), metadata=CryptocurrencyMetadata(symbol='KMD', name='Komodo', efficiency=90.0, type=<CryptocurrencyType.PROOF_OF_WORK: 'proof_of_work'>), hashes_per_second=54765174.707964, volume=2180892.9435116, price=0.48096134915675)]"
     },
     "execution_count": 2,
     "metadata": {},
     "output_type": "execute_result"
    }
   ],
   "source": [
    "default_analysis_set"
   ],
   "metadata": {
    "collapsed": false,
    "pycharm": {
     "name": "#%%\n"
    }
   }
  },
  {
   "cell_type": "code",
   "execution_count": 3,
   "outputs": [
    {
     "data": {
      "text/plain": "[CryptocurrencyTimestamp(timestamp=datetime.datetime(2022, 1, 22, 23, 48, 29), metadata=CryptocurrencyMetadata(symbol='BTC', name='Bitcoin', efficiency=25300000000.0, type=<CryptocurrencyType.PROOF_OF_WORK: 'proof_of_work'>), hashes_per_second=1.759400846770547e+20, volume=43323258708.786, price=35036.277079261),\n CryptocurrencyTimestamp(timestamp=datetime.datetime(2022, 1, 22, 23, 48, 44), metadata=CryptocurrencyMetadata(symbol='ETH', name='Ethereum', efficiency=228000.0, type=<CryptocurrencyType.PROOF_OF_WORK: 'proof_of_work'>), hashes_per_second=937256176899067, volume=32495943977.736, price=2401.1043235599),\n CryptocurrencyTimestamp(timestamp=datetime.datetime(2022, 1, 22, 23, 48, 22), metadata=CryptocurrencyMetadata(symbol='BSV', name='Bitcoin SV', efficiency=25300000000.0, type=<CryptocurrencyType.PROOF_OF_WORK: 'proof_of_work'>), hashes_per_second=5.03024e+17, volume=183886482.21045, price=89.509566742128),\n CryptocurrencyTimestamp(timestamp=datetime.datetime(2022, 1, 22, 23, 48, 27), metadata=CryptocurrencyMetadata(symbol='BCH', name='Bitcoin Cash', efficiency=25300000000.0, type=<CryptocurrencyType.PROOF_OF_WORK: 'proof_of_work'>), hashes_per_second=1427388347647288000, volume=908174847.02279, price=291.33713659689),\n CryptocurrencyTimestamp(timestamp=datetime.datetime(2022, 1, 22, 23, 48, 35), metadata=CryptocurrencyMetadata(symbol='LTC', name='Litecoin', efficiency=827000.0, type=<CryptocurrencyType.PROOF_OF_WORK: 'proof_of_work'>), hashes_per_second=360200000000000, volume=2658373345.778, price=108.10850622197),\n CryptocurrencyTimestamp(timestamp=datetime.datetime(2022, 1, 22, 23, 48, 47), metadata=CryptocurrencyMetadata(symbol='XMR', name='Monero', efficiency=6.0, type=<CryptocurrencyType.PROOF_OF_WORK: 'proof_of_work'>), hashes_per_second=3250000000, volume=221655250.92878, price=151.32945702088),\n CryptocurrencyTimestamp(timestamp=datetime.datetime(2022, 1, 22, 23, 48, 29), metadata=CryptocurrencyMetadata(symbol='DASH', name='Dash', efficiency=123000000.0, type=<CryptocurrencyType.PROOF_OF_WORK: 'proof_of_work'>), hashes_per_second=4690309528911600, volume=469067796.46793, price=96.867285139999),\n CryptocurrencyTimestamp(timestamp=datetime.datetime(2022, 1, 22, 23, 48, 23), metadata=CryptocurrencyMetadata(symbol='ETC', name='Ethereum C', efficiency=228000.0, type=<CryptocurrencyType.PROOF_OF_WORK: 'proof_of_work'>), hashes_per_second=24148901069454, volume=665748658.09672, price=24.201979746839),\n CryptocurrencyTimestamp(timestamp=datetime.datetime(2022, 1, 22, 23, 48, 48), metadata=CryptocurrencyMetadata(symbol='ZEC', name='Zcash', efficiency=90.0, type=<CryptocurrencyType.PROOF_OF_WORK: 'proof_of_work'>), hashes_per_second=7481209556.2915, volume=406613843.94212, price=94.116571477379),\n CryptocurrencyTimestamp(timestamp=datetime.datetime(2022, 1, 22, 23, 48, 33), metadata=CryptocurrencyMetadata(symbol='DOGE', name='DogeCoin', efficiency=827000.0, type=<CryptocurrencyType.PROOF_OF_WORK: 'proof_of_work'>), hashes_per_second=279672225350400, volume=1747214508.6338, price=0.13269694061808),\n CryptocurrencyTimestamp(timestamp=datetime.datetime(2022, 1, 22, 23, 48, 27), metadata=CryptocurrencyMetadata(symbol='DCR', name='Decred', efficiency=18900000000.0, type=<CryptocurrencyType.PROOF_OF_WORK: 'proof_of_work'>), hashes_per_second=3.2131842166967e+17, volume=7591718.1985573, price=54.790846588091),\n CryptocurrencyTimestamp(timestamp=datetime.datetime(2022, 1, 22, 23, 48, 31), metadata=CryptocurrencyMetadata(symbol='RVN', name='RavenCoin', efficiency=116000.0, type=<CryptocurrencyType.PROOF_OF_WORK: 'proof_of_work'>), hashes_per_second=5112514320794, volume=62752680.532696, price=0.061767595845577),\n CryptocurrencyTimestamp(timestamp=datetime.datetime(2022, 1, 22, 23, 48, 30), metadata=CryptocurrencyMetadata(symbol='MONA', name='MonaCoin', efficiency=11700000.0, type=<CryptocurrencyType.PROOF_OF_WORK: 'proof_of_work'>), hashes_per_second=-1, volume=618034.60316839, price=0.99036596079837),\n CryptocurrencyTimestamp(timestamp=datetime.datetime(2022, 1, 22, 23, 48, 17), metadata=CryptocurrencyMetadata(symbol='DGB', name='DigiByte', efficiency=25300000000.0, type=<CryptocurrencyType.PROOF_OF_WORK: 'proof_of_work'>), hashes_per_second=557912966808380, volume=27431352.865994, price=0.020386941925745),\n CryptocurrencyTimestamp(timestamp=datetime.datetime(2022, 1, 22, 23, 48, 47), metadata=CryptocurrencyMetadata(symbol='ZEN', name='Horizen', efficiency=90.0, type=<CryptocurrencyType.PROOF_OF_WORK: 'proof_of_work'>), hashes_per_second=2221412611.4448, volume=31357444.427169, price=35.088756438858),\n CryptocurrencyTimestamp(timestamp=datetime.datetime(2022, 1, 22, 23, 48, 34), metadata=CryptocurrencyMetadata(symbol='KMD', name='Komodo', efficiency=90.0, type=<CryptocurrencyType.PROOF_OF_WORK: 'proof_of_work'>), hashes_per_second=112677321.44693, volume=2167396.7671114, price=0.47148355095753),\n CryptocurrencyTimestamp(timestamp=datetime.datetime(2022, 1, 22, 23, 48, 21), metadata=CryptocurrencyMetadata(symbol='BCN', name='Bytecoin', efficiency=500.0, type=<CryptocurrencyType.PROOF_OF_WORK: 'proof_of_work'>), hashes_per_second=-1, volume=9773.28570204, price=0.00019077811222258)]"
     },
     "execution_count": 3,
     "metadata": {},
     "output_type": "execute_result"
    }
   ],
   "source": [
    "MinerstatApiEndpoint.get_data_for_cryptocurrencies(demo_metadata)"
   ],
   "metadata": {
    "collapsed": false,
    "pycharm": {
     "name": "#%%\n"
    }
   }
  },
  {
   "cell_type": "code",
   "execution_count": 4,
   "outputs": [],
   "source": [
    "an=default_analysis_set[0]"
   ],
   "metadata": {
    "collapsed": false,
    "pycharm": {
     "name": "#%%\n"
    }
   }
  },
  {
   "cell_type": "code",
   "execution_count": 5,
   "outputs": [
    {
     "name": "stdout",
     "output_type": "stream",
     "text": [
      "60.91838505023711\n"
     ]
    }
   ],
   "source": [
    "ec = get_annual_energy_consumption_in_j_from_timestamp(an)\n",
    "ec = get_annual_energy_consumption_in_j_from_timestamp(an)\n",
    "print(to_twh_from_j(ec))"
   ],
   "metadata": {
    "collapsed": false,
    "pycharm": {
     "name": "#%%\n"
    }
   }
  },
  {
   "cell_type": "code",
   "execution_count": 6,
   "outputs": [
    {
     "name": "stdout",
     "output_type": "stream",
     "text": [
      "{'status': {'timestamp': '2022-01-23T00:53:07.556Z', 'error_code': 0, 'error_message': None, 'elapsed': 17, 'credit_count': 1, 'notice': None}, 'data': [{'id': '61a461f8f13c3c06383f4224', 'name': 'Kenetic Capital Portfolio', 'title': 'Kenetic Capital Portfolio', 'description': 'Kenetic Capital Portfolio', 'num_tokens': 57, 'avg_price_change': -8.155010967368423, 'market_cap': 405035051287.9999, 'market_cap_change': -8.17204210526316, 'volume': 43529913993.71862, 'volume_change': 5.439240350877193, 'last_updated': '2021-12-06T06:37:14.173Z'}, {'id': '618c0beeb7dd913155b462f9', 'name': 'Ethereum Ecosystem', 'title': 'Ethereum Ecosystem', 'description': 'Ethereum Ecosystem', 'num_tokens': 182, 'avg_price_change': -2.410653881294118, 'market_cap': 307458120269.8799, 'market_cap_change': -0.10038882352941234, 'volume': 30469601098.61144, 'volume_change': -7.211606470588237, 'last_updated': '2021-11-10T18:14:06.200Z'}, {'id': '616e4420691eaf08be21fe7b', 'name': 'Near Protocol Ecosystem', 'title': 'Near Protocol Ecosystem', 'description': 'Near Protocol Ecosystem', 'num_tokens': 18, 'avg_price_change': -9.396369754375, 'market_cap': 20203710569.889996, 'market_cap_change': -6.0225, 'volume': 3744601199.143333, 'volume_change': 8.632918750000002, 'last_updated': '2021-10-22T11:46:17.625Z'}, {'id': '61693ae410dbb97a52fb2ed0', 'name': 'Web3', 'title': 'Web3', 'description': 'Web3', 'num_tokens': 74, 'avg_price_change': -9.80067627054054, 'market_cap': 51280807649.34999, 'market_cap_change': -9.09208243243243, 'volume': 8055469795.493645, 'volume_change': 1458.5965499999998, 'last_updated': '2021-11-29T05:14:39.223Z'}, {'id': '60bdcb4acd44627a464e36c5', 'name': 'Doggone Doggerel', 'title': 'Doggone Doggerel', 'description': 'Doggone Doggerel', 'num_tokens': 204, 'avg_price_change': 48370.8862182038, 'market_cap': 30379896864.509995, 'market_cap_change': -1.1211873737373739, 'volume': 4192589505.1692543, 'volume_change': 227.0846, 'last_updated': '2021-06-24T16:53:09.818Z'}, {'id': '60a5f6765abd81761fe58688', 'name': 'Polygon Ecosystem', 'title': 'Polygon Ecosystem', 'description': 'Polygon Ecosystem', 'num_tokens': 146, 'avg_price_change': -4.786621508467152, 'market_cap': 49049410480.69, 'market_cap_change': -3.526943795620438, 'volume': 9798710139.991964, 'volume_change': 8.245124087591241, 'last_updated': '2021-05-20T06:11:54.475Z'}, {'id': '605e2ec9d41eae1066535f82', 'name': 'Paradigm Portfolio', 'title': 'Paradigm Portfolio', 'description': 'Paradigm Portfolio', 'num_tokens': 15, 'avg_price_change': -8.841837232142858, 'market_cap': 980624369850.8202, 'market_cap_change': -8.608735714285713, 'volume': 70585700053.195, 'volume_change': 4.021714285714287, 'last_updated': '2021-11-10T10:30:15.958Z'}, {'id': '605e2e73d41eae1066535f80', 'name': 'Multicoin Capital Portfolio', 'title': 'Multicoin Capital Portfolio', 'description': 'Multicoin Capital Portfolio', 'num_tokens': 22, 'avg_price_change': -8.758445674761903, 'market_cap': 1069391710579.6802, 'market_cap_change': -8.08227142857143, 'volume': 76758531313.45508, 'volume_change': -2.2631190476190475, 'last_updated': '2021-03-26T23:29:46.673Z'}, {'id': '605e2e38d41eae1066535f7f', 'name': 'Pantera Capital Portfolio', 'title': 'Pantera Capital Portfolio', 'description': 'Pantera Capital Portfolio', 'num_tokens': 51, 'avg_price_change': -6.94843945901961, 'market_cap': 1064222247039.0802, 'market_cap_change': -6.813974509803922, 'volume': 83257599392.09634, 'volume_change': 10.463596078431378, 'last_updated': '2021-03-26T23:24:51.227Z'}, {'id': '605e2e0bd41eae1066535f7e', 'name': 'Placeholder Ventures Portfolio', 'title': 'Placeholder Ventures Portfolio', 'description': 'Placeholder Ventures Portfolio', 'num_tokens': 16, 'avg_price_change': -7.330135713124999, 'market_cap': 984878150056.5103, 'market_cap_change': -7.357362500000001, 'volume': 70686075317.32991, 'volume_change': 9.264825, 'last_updated': '2021-03-26T23:24:50.090Z'}, {'id': '605e2d726507f27280c38982', 'name': 'USV Portfolio', 'title': 'USV Portfolio', 'description': 'USV Portfolio', 'num_tokens': 6, 'avg_price_change': -7.084826875, 'market_cap': 971112283015.4001, 'market_cap_change': -7.069333333333333, 'volume': 67772500447.72783, 'volume_change': 8.469566666666667, 'last_updated': '2021-03-26T23:01:45.131Z'}, {'id': '605e2d3ed41eae1066535f7d', 'name': 'Winklevoss Capital Portfolio', 'title': 'Winklevoss Capital Portfolio', 'description': 'Winklevoss Capital Portfolio', 'num_tokens': 6, 'avg_price_change': -9.872388735, 'market_cap': 968276159338.7601, 'market_cap_change': -9.7731, 'volume': 68603482993.71564, 'volume_change': 4.7747166666666665, 'last_updated': '2021-11-10T17:49:59.639Z'}, {'id': '605e2d0f6507f27280c38981', 'name': '1Confirmation Portfolio', 'title': '1Confirmation Portfolio', 'description': '1Confirmation Portfolio', 'num_tokens': 9, 'avg_price_change': -7.6641251977777785, 'market_cap': 992598814247.8401, 'market_cap_change': -7.71911111111111, 'volume': 72245503515.40826, 'volume_change': 16.05666666666667, 'last_updated': '2021-03-26T22:58:15.404Z'}, {'id': '605e2ce9d41eae1066535f7c', 'name': 'a16z Portfolio', 'title': 'a16z Portfolio', 'description': 'a16z Portfolio', 'num_tokens': 16, 'avg_price_change': -9.071682354375001, 'market_cap': 1008236432434.9001, 'market_cap_change': -8.831756249999998, 'volume': 73092413988.85551, 'volume_change': 10.598299999999997, 'last_updated': '2021-11-10T17:23:01.089Z'}, {'id': '605e2cc16507f27280c38980', 'name': 'Alameda Research Portfolio', 'title': 'Alameda Research Portfolio', 'description': 'Alameda Research Portfolio', 'num_tokens': 59, 'avg_price_change': -8.319812800175438, 'market_cap': 1079111760319.2798, 'market_cap_change': -7.40876842105263, 'volume': 79230410465.07903, 'volume_change': 15.538599999999997, 'last_updated': '2021-03-26T22:52:34.852Z'}, {'id': '605e2c4bd41eae1066535f7a', 'name': 'Huobi Capital Portfolio', 'title': 'Huobi Capital Portfolio', 'description': 'Huobi Capital Portfolio', 'num_tokens': 14, 'avg_price_change': -9.922463341428571, 'market_cap': 994689293317.2799, 'market_cap_change': -9.07662142857143, 'volume': 72724173355.4579, 'volume_change': 17.005264285714286, 'last_updated': '2021-11-10T17:56:37.775Z'}, {'id': '605e2befd41eae1066535f78', 'name': 'Hashkey Capital Portfolio', 'title': 'Hashkey Capital Portfolio', 'description': 'Hashkey Capital Portfolio', 'num_tokens': 19, 'avg_price_change': -7.39874327736842, 'market_cap': 360622637807.6, 'market_cap_change': -7.376842105263158, 'volume': 38985736984.52944, 'volume_change': 6332.794357894737, 'last_updated': '2021-03-26T22:00:56.088Z'}, {'id': '605e2bbc6507f27280c3897f', 'name': 'Galaxy Digital Portfolio', 'title': 'Galaxy Digital Portfolio', 'description': 'Galaxy Digital Portfolio', 'num_tokens': 8, 'avg_price_change': -10.467926148750001, 'market_cap': 704126883812.41, 'market_cap_change': -7.526037499999999, 'volume': 44647223882.95785, 'volume_change': 11.7656125, 'last_updated': '2021-03-26T21:54:35.334Z'}, {'id': '605e2b84d41eae1066535f77', 'name': 'Fenbushi Capital Portfolio', 'title': 'Fenbushi Capital Portfolio', 'description': 'Fenbushi Capital Portfolio', 'num_tokens': 12, 'avg_price_change': -7.596711947500001, 'market_cap': 27058235096.339996, 'market_cap_change': -7.988333333333333, 'volume': 4702391318.728797, 'volume_change': 13.936858333333333, 'last_updated': '2021-03-26T21:51:48.508Z'}, {'id': '605e2b4dd41eae1066535f76', 'name': 'Framework Ventures Portfolio', 'title': 'Framework Ventures Portfolio', 'description': 'Framework Ventures Portfolio', 'num_tokens': 16, 'avg_price_change': -6.40496608375, 'market_cap': 975153402372.0901, 'market_cap_change': -6.39635625, 'volume': 70482465425.52464, 'volume_change': 7525.020725, 'last_updated': '2021-11-10T17:58:35.640Z'}, {'id': '605e2b2c6507f27280c3897e', 'name': 'Fabric Ventures Portfolio', 'title': 'Fabric Ventures Portfolio', 'description': 'Fabric Ventures Portfolio', 'num_tokens': 17, 'avg_price_change': -5.75112115875, 'market_cap': 996334144014.3202, 'market_cap_change': -5.657931250000001, 'volume': 72154302037.81874, 'volume_change': 48.477025, 'last_updated': '2021-03-26T21:44:18.374Z'}, {'id': '605e2b07d41eae1066535f75', 'name': 'Electric Global Portfolio', 'title': 'Electric Global Portfolio', 'description': 'Electric Global Portfolio', 'num_tokens': 10, 'avg_price_change': -8.491910769, 'market_cap': 979084697843.0701, 'market_cap_change': -8.524650000000001, 'volume': 69669595408.71216, 'volume_change': 16.19392, 'last_updated': '2021-03-26T21:44:15.738Z'}, {'id': '605e2acf6507f27280c3897d', 'name': 'DragonFly Capital Portfolio', 'title': 'DragonFly Capital Portfolio', 'description': 'DragonFly Capital Portfolio', 'num_tokens': 14, 'avg_price_change': -9.358798084285715, 'market_cap': 991934393432.2001, 'market_cap_change': -9.21482142857143, 'volume': 71635648908.67438, 'volume_change': 10.534457142857141, 'last_updated': '2021-03-26T21:34:54.534Z'}, {'id': '605e2a98d41eae1066535f74', 'name': 'DCG Portfolio', 'title': 'DCG Portfolio', 'description': 'DCG Portfolio', 'num_tokens': 21, 'avg_price_change': -8.858672776666667, 'market_cap': 984494368095.0602, 'market_cap_change': -8.042747619047619, 'volume': 71225539799.05193, 'volume_change': 9.014676190476191, 'last_updated': '2021-03-26T21:28:13.816Z'}, {'id': '605e2a01d41eae1066535f71', 'name': 'CMS Holdings Portfolio', 'title': 'CMS Holdings Portfolio', 'description': 'CMS Holdings Portfolio', 'num_tokens': 26, 'avg_price_change': -8.7487265652, 'market_cap': 1032602159047.1599, 'market_cap_change': -8.206768, 'volume': 75669102914.38507, 'volume_change': 16.651264000000005, 'last_updated': '2021-03-26T21:14:27.160Z'}, {'id': '605e29ad6507f27280c3897c', 'name': 'BoostVC Portfolio', 'title': 'BoostVC Portfolio', 'description': 'BoostVC Portfolio', 'num_tokens': 15, 'avg_price_change': -8.52692841, 'market_cap': 993689526159.5203, 'market_cap_change': -8.393106666666666, 'volume': 72283780503.15953, 'volume_change': 4.928959999999999, 'last_updated': '2021-03-26T20:55:03.775Z'}, {'id': '605e2967d41eae1066535f70', 'name': 'Blockchain Capital Portfolio', 'title': 'Blockchain Capital Portfolio', 'description': 'Blockchain Capital Portfolio', 'num_tokens': 17, 'avg_price_change': -9.695751507647056, 'market_cap': 998747800541.1401, 'market_cap_change': -9.662464705882352, 'volume': 72799944426.25835, 'volume_change': 6.243417647058824, 'last_updated': '2021-03-26T20:50:42.678Z'}, {'id': '6051abf38a9b3f285eec4d3f', 'name': 'Binance Labs Portfolio', 'title': 'Binance Labs Portfolio', 'description': 'Binance Labs Portfolio', 'num_tokens': 26, 'avg_price_change': -9.278648244166666, 'market_cap': 1010857855978.2401, 'market_cap_change': -8.356279166666665, 'volume': 75595751577.08473, 'volume_change': 3.4300833333333323, 'last_updated': '2021-11-10T10:31:26.079Z'}, {'id': '6051a82566fc1b42617d6dc6', 'name': 'Memes', 'title': 'Memes', 'description': 'Memes', 'num_tokens': 303, 'avg_price_change': 34073.59497889246, 'market_cap': 30531802708.809994, 'market_cap_change': -0.9744418439716311, 'volume': 4208237933.8127117, 'volume_change': 138.70290319148938, 'last_updated': '2021-11-10T10:34:24.884Z'}, {'id': '6051a82366fc1b42617d6dc4', 'name': 'IoT', 'title': 'IoT', 'description': 'IoT', 'num_tokens': 58, 'avg_price_change': -5.284958250925927, 'market_cap': 10477197468.109995, 'market_cap_change': -7.04466111111111, 'volume': 906970397.9964448, 'volume_change': 2.2250333333333323, 'last_updated': '2021-11-10T10:34:37.588Z'}, {'id': '6051a82066fc1b42617d6dc0', 'name': 'Filesharing', 'title': 'Filesharing', 'description': 'Filesharing', 'num_tokens': 42, 'avg_price_change': -2.9886764497619045, 'market_cap': 10313195392.970003, 'market_cap_change': -1.6358547619047619, 'volume': 1275922923.8547478, 'volume_change': 2687.9471952380954, 'last_updated': '2021-11-10T10:35:12.354Z'}, {'id': '6051a81d66fc1b42617d6dbb', 'name': 'Content Creation', 'title': 'Content Creation', 'description': 'Content Creation', 'num_tokens': 67, 'avg_price_change': 1.760630111076923, 'market_cap': 19374015919.059994, 'market_cap_change': 2.2610353846153837, 'volume': 5196110712.050831, 'volume_change': 19.885036923076925, 'last_updated': '2021-11-10T10:35:39.931Z'}, {'id': '6051a81b66fc1b42617d6db9', 'name': 'Distributed Computing', 'title': 'Distributed Computing', 'description': 'Distributed Computing', 'num_tokens': 58, 'avg_price_change': -3.7790857065517227, 'market_cap': 16757532079.119997, 'market_cap_change': -3.1812499999999977, 'volume': 1845145460.3789203, 'volume_change': 1955.8232844827587, 'last_updated': '2021-11-10T10:37:26.209Z'}, {'id': '6051a81466fc1b42617d6db0', 'name': 'Cosmos Ecosystem', 'title': 'Cosmos Ecosystem', 'description': 'Cosmos Ecosystem', 'num_tokens': 67, 'avg_price_change': -9.417613526865672, 'market_cap': 63170172020.01, 'market_cap_change': -6.8687432835820905, 'volume': 8942533898.191643, 'volume_change': 5.7286298507462705, 'last_updated': '2021-11-10T10:39:21.341Z'}, {'id': '604f2775ebccdd50cd175fdb', 'name': 'Polychain Capital Portfolio', 'title': 'Polychain Capital Portfolio', 'description': 'Polychain Capital Portfolio', 'num_tokens': 21, 'avg_price_change': -10.272353769499999, 'market_cap': 1020293003241.2201, 'market_cap_change': -10.066695, 'volume': 75851272470.13417, 'volume_change': 14.930055, 'last_updated': '2021-11-10T10:50:04.888Z'}, {'id': '604f2774ebccdd50cd175fda', 'name': 'Three Arrows Capital Portfolio', 'title': 'Three Arrows Capital Portfolio', 'description': 'Three Arrows Capital Portfolio', 'num_tokens': 22, 'avg_price_change': -7.299479347727271, 'market_cap': 991332039646.1901, 'market_cap_change': -5.927554545454544, 'volume': 71147078390.00647, 'volume_change': 2.252313636363637, 'last_updated': '2021-11-10T10:50:14.385Z'}, {'id': '604f2772ebccdd50cd175fd9', 'name': 'Coinbase Ventures Portfolio', 'title': 'Coinbase Ventures Portfolio', 'description': 'Coinbase Ventures Portfolio', 'num_tokens': 39, 'avg_price_change': -10.786219661351353, 'market_cap': 1024405721476.8306, 'market_cap_change': -6.460002702702702, 'volume': 76506737210.9538, 'volume_change': 3253.7392918918918, 'last_updated': '2021-11-10T10:50:19.934Z'}, {'id': '604f275aebccdd50cd175fc6', 'name': 'DAO', 'title': 'DAO', 'description': 'DAO', 'num_tokens': 124, 'avg_price_change': -6.643694733559319, 'market_cap': 21232309366.77, 'market_cap_change': -5.251481355932205, 'volume': 4089386010.134357, 'volume_change': 510.27822457627116, 'last_updated': '2021-11-10T11:25:42.336Z'}, {'id': '604f2752ebccdd50cd175fc0', 'name': 'Smart Contracts', 'title': 'Smart Contracts', 'description': 'Smart Contracts', 'num_tokens': 140, 'avg_price_change': -6.019475676444444, 'market_cap': 454857404550.90027, 'market_cap_change': -6.748174814814813, 'volume': 46920612361.66293, 'volume_change': 58.53091851851852, 'last_updated': '2021-11-10T11:25:53.431Z'}, {'id': '604f2747ebccdd50cd175fb8', 'name': 'Masternodes', 'title': 'Masternodes', 'description': 'Masternodes', 'num_tokens': 142, 'avg_price_change': -4.368482883740455, 'market_cap': 3304804258.859999, 'market_cap_change': -4.339826717557253, 'volume': 598666887.1116011, 'volume_change': 244.62124885496186, 'last_updated': '2021-11-10T11:26:08.171Z'}, {'id': '604f273debccdd50cd175fb0', 'name': 'Privacy', 'title': 'Privacy', 'description': 'Privacy', 'num_tokens': 89, 'avg_price_change': -9.135513368024693, 'market_cap': 9413427434.520004, 'market_cap_change': -8.465380246913584, 'volume': 1480609297.2537148, 'volume_change': 106.1080679012346, 'last_updated': '2021-11-10T11:26:16.939Z'}, {'id': '60308028d2088f200c58a005', 'name': 'BSC Ecosystem', 'title': 'Top Binance Smart Chain Tokens by Market Capitalization', 'description': 'Binance Smart Chain dual-chain architecture will empower its users to build their decentralized apps and digital assets on one blockchain and take advantage of the fast trading to exchange on the other.', 'num_tokens': 1967, 'avg_price_change': 649914.3282673929, 'market_cap': 725322585880.4401, 'market_cap_change': -1.3384671797691021, 'volume': 176956350199.63553, 'volume_change': 196.67310923584398, 'last_updated': '2021-11-12T04:24:14.138Z'}, {'id': '60291fa0db1be76c46298e83', 'name': 'NFTs & Collectibles', 'title': 'Top NFTs & Collectibles Tokens by Market Capitalization', 'description': 'A NFT (non-fungible token) is a special cryptographically-generated token that uses blockchain technology to link with a unique digital asset that cannot be replicated.', 'num_tokens': 503, 'avg_price_change': 631.8347096412043, 'market_cap': 34526114143.12002, 'market_cap_change': -4.670177849462362, 'volume': 8341566956.962109, 'volume_change': 160.8780933333331, 'last_updated': '2021-05-04T10:36:15.891Z'}, {'id': '5fb62da404d1dd4c73744883', 'name': 'Storage', 'title': 'Top Storage Tokens by Market Capitalization', 'description': 'In blockchain-based decentralized cloud storage, your data is encrypted and stored across a distributed network of nodes', 'num_tokens': 39, 'avg_price_change': -7.5142576267567565, 'market_cap': 9452719935.290003, 'market_cap_change': -6.15658108108108, 'volume': 1139714457.7919023, 'volume_change': 2.3573243243243245, 'last_updated': '2021-03-23T08:38:28.660Z'}]}\n"
     ]
    },
    {
     "data": {
      "text/plain": "{'BTC': 405035051287.9999,\n 'ETH': 307458120269.8799,\n 'BSV': 20203710569.889996,\n 'BCH': 51280807649.34999,\n 'LTC': 30379896864.509995,\n 'XMR': 49049410480.69,\n 'DASH': 980624369850.8202,\n 'ETC': 1069391710579.6802,\n 'ZEC': 1064222247039.0802,\n 'DOGE': 984878150056.5103,\n 'DCR': 971112283015.4001,\n 'RVN': 968276159338.7601,\n 'MONA': 992598814247.8401,\n 'BTM': 1008236432434.9001,\n 'SC': 1079111760319.2798,\n 'DGB': 994689293317.2799,\n 'ZEN': 360622637807.6,\n 'KMD': 704126883812.41,\n 'BCN': 27058235096.339996}"
     },
     "execution_count": 6,
     "metadata": {},
     "output_type": "execute_result"
    }
   ],
   "source": [
    "get_symbol_market_cap_map()"
   ],
   "metadata": {
    "collapsed": false,
    "pycharm": {
     "name": "#%%\n"
    }
   }
  }
 ],
 "metadata": {
  "kernelspec": {
   "display_name": "Python 3",
   "language": "python",
   "name": "python3"
  },
  "language_info": {
   "codemirror_mode": {
    "name": "ipython",
    "version": 3
   },
   "file_extension": ".py",
   "mimetype": "text/x-python",
   "name": "python",
   "nbconvert_exporter": "python",
   "pygments_lexer": "ipython3",
   "version": "3.7.4"
  }
 },
 "nbformat": 4,
 "nbformat_minor": 1
}