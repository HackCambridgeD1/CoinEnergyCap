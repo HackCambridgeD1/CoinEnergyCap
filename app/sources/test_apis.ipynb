{
 "cells": [
  {
   "cell_type": "code",
   "execution_count": 1,
   "metadata": {
    "pycharm": {
     "name": "#%%\n"
    }
   },
   "outputs": [],
   "source": [
    "from app.sources.cryptocurrency_data_analysis.default_analysis_set import get_default_analysis_set, get_annual_energy_consumption_in_j_from_timestamp\n",
    "from app.sources.cryptocurrency_data_analysis.energy_consumption_calculations import to_scientific_notation, \\\n",
    "    to_twh_from_j, j_to_co2_kg_AVG\n",
    "\n",
    "default_analysis_set = get_default_analysis_set()"
   ]
  },
  {
   "cell_type": "code",
   "execution_count": 6,
   "outputs": [
    {
     "data": {
      "text/plain": "19"
     },
     "execution_count": 6,
     "metadata": {},
     "output_type": "execute_result"
    }
   ],
   "source": [
    "an=default_analysis_set[0]"
   ],
   "metadata": {
    "collapsed": false,
    "pycharm": {
     "name": "#%%\n"
    }
   }
  },
  {
   "cell_type": "code",
   "execution_count": 3,
   "outputs": [
    {
     "name": "stdout",
     "output_type": "stream",
     "text": [
      "60.94376381515089\n"
     ]
    }
   ],
   "source": [
    "ec = get_annual_energy_consumption_in_j_from_timestamp(an)\n",
    "print(to_twh_from_j(ec))"
   ],
   "metadata": {
    "collapsed": false,
    "pycharm": {
     "name": "#%%\n"
    }
   }
  },
  {
   "cell_type": "code",
   "execution_count": 4,
   "outputs": [
    {
     "name": "stdout",
     "output_type": "stream",
     "text": [
      "3.657e+10\n"
     ]
    }
   ],
   "source": [
    "print(to_scientific_notation(j_to_co2_kg_AVG(ec)))"
   ],
   "metadata": {
    "collapsed": false,
    "pycharm": {
     "name": "#%%\n"
    }
   }
  }
 ],
 "metadata": {
  "kernelspec": {
   "display_name": "Python 3",
   "language": "python",
   "name": "python3"
  },
  "language_info": {
   "codemirror_mode": {
    "name": "ipython",
    "version": 3
   },
   "file_extension": ".py",
   "mimetype": "text/x-python",
   "name": "python",
   "nbconvert_exporter": "python",
   "pygments_lexer": "ipython3",
   "version": "3.7.4"
  }
 },
 "nbformat": 4,
 "nbformat_minor": 1
}