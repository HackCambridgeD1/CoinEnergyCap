{
 "cells": [
  {
   "cell_type": "code",
   "execution_count": 4,
   "metadata": {},
   "outputs": [],
   "source": [
    "import requests\n",
    "\n",
    "from cryptocurrency_api_connections.minerstat_api_endpoint import MinerstatApiEndpoint\n",
    "from cryptocurrency_data_schema.demo_cryptocurrency_metadata import demo_metadata_map"
   ]
  },
  {
   "cell_type": "code",
   "execution_count": 5,
   "metadata": {
    "pycharm": {
     "name": "#%%\n"
    }
   },
   "outputs": [
    {
     "data": {
      "text/plain": "[CryptocurrencyTimestamp(timestamp=datetime.datetime(2022, 1, 22, 18, 54, 46), metadata=CryptocurrencyMetadata(symbol='ETH', name='Ethereum', efficiency=228000.0, type=<CryptocurrencyType.PROOF_OF_WORK: 'proof_of_work'>), hashes_per_second=937256176899067, volume=36385644351.695, price=2358.9705941832, estimated_transaction=15424373.85248273)]"
     },
     "execution_count": 5,
     "metadata": {},
     "output_type": "execute_result"
    }
   ],
   "source": [
    "from datetime import date, datetime\n",
    "MinerstatApiEndpoint.get_data_for_cryptocurrencies(\n",
    "    [demo_metadata_map[\"ETH\"]]\n",
    ")"
   ]
  }
 ],
 "metadata": {
  "kernelspec": {
   "display_name": "Python 3",
   "language": "python",
   "name": "python3"
  },
  "language_info": {
   "codemirror_mode": {
    "name": "ipython",
    "version": 3
   },
   "file_extension": ".py",
   "mimetype": "text/x-python",
   "name": "python",
   "nbconvert_exporter": "python",
   "pygments_lexer": "ipython3",
   "version": "3.7.4"
  }
 },
 "nbformat": 4,
 "nbformat_minor": 1
}